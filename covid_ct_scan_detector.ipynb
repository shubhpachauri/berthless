{
  "nbformat": 4,
  "nbformat_minor": 0,
  "metadata": {
    "accelerator": "GPU",
    "colab": {
      "name": "covid ct scan detector ",
      "provenance": [],
      "collapsed_sections": [],
      "authorship_tag": "ABX9TyPw2i9wx0FDLOdKRNrHNzk6",
      "include_colab_link": true
    },
    "kernelspec": {
      "display_name": "Python 3",
      "name": "python3"
    },
    "language_info": {
      "name": "python"
    }
  },
  "cells": [
    {
      "cell_type": "markdown",
      "metadata": {
        "id": "view-in-github",
        "colab_type": "text"
      },
      "source": [
        "<a href=\"https://colab.research.google.com/github/shubhpachauri/berthless/blob/master/covid_ct_scan_detector.ipynb\" target=\"_parent\"><img src=\"https://colab.research.google.com/assets/colab-badge.svg\" alt=\"Open In Colab\"/></a>"
      ]
    },
    {
      "cell_type": "code",
      "metadata": {
        "colab": {
          "base_uri": "https://localhost:8080/"
        },
        "id": "D_M8hXUquY22",
        "outputId": "0fd771d6-6d08-40a7-a942-a0096028ffc2"
      },
      "source": [
        "    !wget https://www.dropbox.com/s/1et42066ydpz7e8/covid_19.zip?dl=0"
      ],
      "execution_count": null,
      "outputs": [
        {
          "output_type": "stream",
          "text": [
            "--2021-06-10 16:53:23--  https://www.dropbox.com/s/1et42066ydpz7e8/covid_19.zip?dl=0\n",
            "Resolving www.dropbox.com (www.dropbox.com)... 162.125.82.18, 2620:100:6030:18::a27d:5012\n",
            "Connecting to www.dropbox.com (www.dropbox.com)|162.125.82.18|:443... connected.\n",
            "HTTP request sent, awaiting response... 301 Moved Permanently\n",
            "Location: /s/raw/1et42066ydpz7e8/covid_19.zip [following]\n",
            "--2021-06-10 16:53:23--  https://www.dropbox.com/s/raw/1et42066ydpz7e8/covid_19.zip\n",
            "Reusing existing connection to www.dropbox.com:443.\n",
            "HTTP request sent, awaiting response... 302 Found\n",
            "Location: https://ucce90ca0e69f667a441a333822e.dl.dropboxusercontent.com/cd/0/inline/BQJAGvGzk3QhLJCVDiPvJAei25H4ySauqAsBBtbwkE0WHV97JUHqGspnj8z0DmtWkYtvCryOXktOQCQh0gIQ3nMB87ab4pkEQRHeetLVybaECl4bMvItTonra6miuR9XmC6VmP7NcnSGP4HVv1MhuRrg/file# [following]\n",
            "--2021-06-10 16:53:24--  https://ucce90ca0e69f667a441a333822e.dl.dropboxusercontent.com/cd/0/inline/BQJAGvGzk3QhLJCVDiPvJAei25H4ySauqAsBBtbwkE0WHV97JUHqGspnj8z0DmtWkYtvCryOXktOQCQh0gIQ3nMB87ab4pkEQRHeetLVybaECl4bMvItTonra6miuR9XmC6VmP7NcnSGP4HVv1MhuRrg/file\n",
            "Resolving ucce90ca0e69f667a441a333822e.dl.dropboxusercontent.com (ucce90ca0e69f667a441a333822e.dl.dropboxusercontent.com)... 162.125.82.15, 2620:100:6032:15::a27d:520f\n",
            "Connecting to ucce90ca0e69f667a441a333822e.dl.dropboxusercontent.com (ucce90ca0e69f667a441a333822e.dl.dropboxusercontent.com)|162.125.82.15|:443... connected.\n",
            "HTTP request sent, awaiting response... 302 Found\n",
            "Location: /cd/0/inline2/BQI1XI9QQOuO3zhPVrFA6H0pIG3bC2YTl21AX6xthsWnZqxSz3moR9IsoU9qIseiwh-ZqHephLnl3RLMgUEO-gZzFLoxw6fYBN1rZubL9UBWdlDpQ2Rf97Qrv_PiIbNQTzfyAOlgTw8l2hkV0_fY4LarKJUma5DBHO6YMelk7QyxmwZwOfnpN4aulJ7nHAPbTRafHQ1XQzWC-eUBiZr-LnWSWis3Qmb6ha6bhbP96J5IkGqBi8EK1YI_Z0qu4g528TFmfihlf2g1DFaZGCKxUXsu8VsCZ_0Z-s5-KOOnIzz8s1vWpXenSNcqt9RzkOg4QZXGHpqLK69FEtFuZADKx6D5Yvur_YkapzqVww3aEezH9mjxajYlJba6Y6JU_Ad0nsc/file [following]\n",
            "--2021-06-10 16:53:24--  https://ucce90ca0e69f667a441a333822e.dl.dropboxusercontent.com/cd/0/inline2/BQI1XI9QQOuO3zhPVrFA6H0pIG3bC2YTl21AX6xthsWnZqxSz3moR9IsoU9qIseiwh-ZqHephLnl3RLMgUEO-gZzFLoxw6fYBN1rZubL9UBWdlDpQ2Rf97Qrv_PiIbNQTzfyAOlgTw8l2hkV0_fY4LarKJUma5DBHO6YMelk7QyxmwZwOfnpN4aulJ7nHAPbTRafHQ1XQzWC-eUBiZr-LnWSWis3Qmb6ha6bhbP96J5IkGqBi8EK1YI_Z0qu4g528TFmfihlf2g1DFaZGCKxUXsu8VsCZ_0Z-s5-KOOnIzz8s1vWpXenSNcqt9RzkOg4QZXGHpqLK69FEtFuZADKx6D5Yvur_YkapzqVww3aEezH9mjxajYlJba6Y6JU_Ad0nsc/file\n",
            "Reusing existing connection to ucce90ca0e69f667a441a333822e.dl.dropboxusercontent.com:443.\n",
            "HTTP request sent, awaiting response... 200 OK\n",
            "Length: 140830621 (134M) [application/zip]\n",
            "Saving to: ‘covid_19.zip?dl=0’\n",
            "\n",
            "covid_19.zip?dl=0   100%[===================>] 134.31M  16.9MB/s    in 8.4s    \n",
            "\n",
            "2021-06-10 16:53:33 (16.0 MB/s) - ‘covid_19.zip?dl=0’ saved [140830621/140830621]\n",
            "\n"
          ],
          "name": "stdout"
        }
      ]
    },
    {
      "cell_type": "code",
      "metadata": {
        "colab": {
          "background_save": true
        },
        "id": "mK913v1eujDm",
        "outputId": "342bfca6-5387-4827-d395-a2b4963694ce"
      },
      "source": [
        "!unzip covid_19.zip\\?dl\\=0"
      ],
      "execution_count": null,
      "outputs": [
        {
          "output_type": "stream",
          "text": [
            "Archive:  covid_19.zip?dl=0\n",
            "replace CovidDataset/Val/Covid/88de9d8c39e946abd495b37cd07d89e5-6531-0.jpg? [y]es, [n]o, [A]ll, [N]one, [r]ename: "
          ],
          "name": "stdout"
        }
      ]
    },
    {
      "cell_type": "code",
      "metadata": {
        "id": "mhsVs1uKaz8a"
      },
      "source": [
        "import numpy as np\n",
        "import matplotlib as mlt\n",
        "import keras \n",
        "from keras.layers import * \n",
        "from keras.models import * \n",
        "from keras.preprocessing import image\n"
      ],
      "execution_count": null,
      "outputs": []
    },
    {
      "cell_type": "code",
      "metadata": {
        "id": "zh1g2OiTvBdI"
      },
      "source": [
        "TRAIN_PATH = \"CovidDataset/Train\"\n",
        "VAL_PATH = \"CovidDataset/Test\""
      ],
      "execution_count": null,
      "outputs": []
    },
    {
      "cell_type": "code",
      "metadata": {
        "id": "aSIjPz6x1ErA"
      },
      "source": [
        "# cnn model\n",
        "\n",
        "model = Sequential()\n",
        "#layer 1\n",
        "model.add(Conv2D(32,kernel_size=(3,3),activation='relu',input_shape=(224,224,3))) \n",
        "#layer 2\n",
        "model.add(Conv2D(64,(3,3),activation='relu'))\n",
        "model.add(MaxPool2D(pool_size=(2,2))) \n",
        "model.add(Dropout(0.25))\n",
        "#layer 3\n",
        "model.add(Conv2D(64,(3,3),activation='relu'))\n",
        "model.add(MaxPool2D(pool_size=(2,2)))\n",
        "model.add(Dropout(0.25))\n",
        "#layer 4\n",
        "model.add(Conv2D(128,(3,3),activation='relu'))\n",
        "model.add(MaxPool2D(pool_size=(2,2)))\n",
        "model.add(Dropout(0.25))\n",
        "\n",
        "model.add(Conv2D(256,(3,3),activation='relu'))\n",
        "model.add(MaxPool2D(pool_size=(2,2)))\n",
        "model.add(Dropout(0.25))\n",
        "\n",
        "model.add(Flatten())\n",
        "model.add(Dense(64,activation='relu'))\n",
        "model.add(Dropout(0.25))\n",
        "\n",
        "model.add(Dense(1,activation='sigmoid'))\n",
        "\n",
        "#compiling the model \n",
        "model.compile(loss=keras.losses.binary_crossentropy,optimizer='adam',metrics=['accuracy'])"
      ],
      "execution_count": null,
      "outputs": []
    },
    {
      "cell_type": "code",
      "metadata": {
        "colab": {
          "base_uri": "https://localhost:8080/"
        },
        "id": "8L-zgsaTzAJE",
        "outputId": "5099b043-52e4-48ca-db9e-1c33342e472d"
      },
      "source": [
        "model.summary()"
      ],
      "execution_count": null,
      "outputs": [
        {
          "output_type": "stream",
          "text": [
            "Model: \"sequential\"\n",
            "_________________________________________________________________\n",
            "Layer (type)                 Output Shape              Param #   \n",
            "=================================================================\n",
            "conv2d (Conv2D)              (None, 222, 222, 32)      896       \n",
            "_________________________________________________________________\n",
            "conv2d_1 (Conv2D)            (None, 220, 220, 64)      18496     \n",
            "_________________________________________________________________\n",
            "max_pooling2d (MaxPooling2D) (None, 110, 110, 64)      0         \n",
            "_________________________________________________________________\n",
            "dropout (Dropout)            (None, 110, 110, 64)      0         \n",
            "_________________________________________________________________\n",
            "conv2d_2 (Conv2D)            (None, 108, 108, 64)      36928     \n",
            "_________________________________________________________________\n",
            "max_pooling2d_1 (MaxPooling2 (None, 54, 54, 64)        0         \n",
            "_________________________________________________________________\n",
            "dropout_1 (Dropout)          (None, 54, 54, 64)        0         \n",
            "_________________________________________________________________\n",
            "conv2d_3 (Conv2D)            (None, 52, 52, 128)       73856     \n",
            "_________________________________________________________________\n",
            "max_pooling2d_2 (MaxPooling2 (None, 26, 26, 128)       0         \n",
            "_________________________________________________________________\n",
            "dropout_2 (Dropout)          (None, 26, 26, 128)       0         \n",
            "_________________________________________________________________\n",
            "conv2d_4 (Conv2D)            (None, 24, 24, 256)       295168    \n",
            "_________________________________________________________________\n",
            "max_pooling2d_3 (MaxPooling2 (None, 12, 12, 256)       0         \n",
            "_________________________________________________________________\n",
            "dropout_3 (Dropout)          (None, 12, 12, 256)       0         \n",
            "_________________________________________________________________\n",
            "flatten (Flatten)            (None, 36864)             0         \n",
            "_________________________________________________________________\n",
            "dense (Dense)                (None, 64)                2359360   \n",
            "_________________________________________________________________\n",
            "dropout_4 (Dropout)          (None, 64)                0         \n",
            "_________________________________________________________________\n",
            "dense_1 (Dense)              (None, 1)                 65        \n",
            "=================================================================\n",
            "Total params: 2,784,769\n",
            "Trainable params: 2,784,769\n",
            "Non-trainable params: 0\n",
            "_________________________________________________________________\n"
          ],
          "name": "stdout"
        }
      ]
    },
    {
      "cell_type": "code",
      "metadata": {
        "id": "5soEsKFjAa0V"
      },
      "source": [
        "# traning \n",
        "train_datagen = image.ImageDataGenerator(\n",
        "    rescale = 1./255,\n",
        "    shear_range = 0.2,\n",
        "    zoom_range = 0.2,\n",
        "    horizontal_flip = True,\n",
        ")\n",
        "\n",
        "test_dataset = image.ImageDataGenerator(rescale=1./255)"
      ],
      "execution_count": null,
      "outputs": []
    },
    {
      "cell_type": "code",
      "metadata": {
        "colab": {
          "base_uri": "https://localhost:8080/"
        },
        "id": "7y4YMmT0Gp8R",
        "outputId": "6cc93c2b-51ff-45a4-9fc0-6396856a1058"
      },
      "source": [
        "train_generator = train_datagen.flow_from_directory(\n",
        "    'CovidDataset/Train',\n",
        "    target_size = (224,224),\n",
        "    batch_size = 32,\n",
        "    class_mode = 'binary')"
      ],
      "execution_count": null,
      "outputs": [
        {
          "output_type": "stream",
          "text": [
            "Found 224 images belonging to 2 classes.\n"
          ],
          "name": "stdout"
        }
      ]
    },
    {
      "cell_type": "code",
      "metadata": {
        "colab": {
          "base_uri": "https://localhost:8080/"
        },
        "id": "mFxZprw4IeiC",
        "outputId": "a9e6b167-7843-47b0-8282-84e92eb30e5f"
      },
      "source": [
        "train_generator.class_indices"
      ],
      "execution_count": null,
      "outputs": [
        {
          "output_type": "execute_result",
          "data": {
            "text/plain": [
              "{'Covid': 0, 'Normal': 1}"
            ]
          },
          "metadata": {
            "tags": []
          },
          "execution_count": 9
        }
      ]
    },
    {
      "cell_type": "code",
      "metadata": {
        "colab": {
          "base_uri": "https://localhost:8080/"
        },
        "id": "j_SkC0ZYJpu5",
        "outputId": "78514d0f-63f7-48cb-c9ea-67fc0bfa8ea1"
      },
      "source": [
        "validation_generator = test_dataset.flow_from_directory(\n",
        "    'CovidDataset/Val',\n",
        "    target_size = (224,224),\n",
        "    batch_size = 32,\n",
        "    class_mode = 'binary')"
      ],
      "execution_count": null,
      "outputs": [
        {
          "output_type": "stream",
          "text": [
            "Found 60 images belonging to 2 classes.\n"
          ],
          "name": "stdout"
        }
      ]
    },
    {
      "cell_type": "code",
      "metadata": {
        "colab": {
          "base_uri": "https://localhost:8080/"
        },
        "id": "_NrzHG0kJu_p",
        "outputId": "e3cf818a-b0e5-4249-ecf7-4606f07de30b"
      },
      "source": [
        "hist = model.fit_generator(\n",
        "    train_generator,\n",
        "    epochs = 15,\n",
        "    validation_data = validation_generator,\n",
        "    validation_steps=2\n",
        ")\n"
      ],
      "execution_count": null,
      "outputs": [
        {
          "output_type": "stream",
          "text": [
            "/usr/local/lib/python3.7/dist-packages/keras/engine/training.py:1915: UserWarning: `Model.fit_generator` is deprecated and will be removed in a future version. Please use `Model.fit`, which supports generators.\n",
            "  warnings.warn('`Model.fit_generator` is deprecated and '\n"
          ],
          "name": "stderr"
        },
        {
          "output_type": "stream",
          "text": [
            "Epoch 1/15\n",
            "7/7 [==============================] - 12s 2s/step - loss: 0.7406 - accuracy: 0.5193 - val_loss: 0.6933 - val_accuracy: 0.5000\n",
            "Epoch 2/15\n",
            "7/7 [==============================] - 9s 1s/step - loss: 0.6815 - accuracy: 0.5566 - val_loss: 0.6538 - val_accuracy: 0.9833\n",
            "Epoch 3/15\n",
            "7/7 [==============================] - 9s 1s/step - loss: 0.5036 - accuracy: 0.7871 - val_loss: 0.3810 - val_accuracy: 0.9833\n",
            "Epoch 4/15\n",
            "7/7 [==============================] - 9s 1s/step - loss: 0.2923 - accuracy: 0.8754 - val_loss: 0.3726 - val_accuracy: 0.9833\n",
            "Epoch 5/15\n",
            "7/7 [==============================] - 9s 1s/step - loss: 0.2078 - accuracy: 0.9192 - val_loss: 0.2124 - val_accuracy: 0.9833\n",
            "Epoch 6/15\n",
            "7/7 [==============================] - 9s 1s/step - loss: 0.1285 - accuracy: 0.9692 - val_loss: 0.1753 - val_accuracy: 0.9833\n",
            "Epoch 7/15\n",
            "7/7 [==============================] - 9s 1s/step - loss: 0.1175 - accuracy: 0.9453 - val_loss: 0.2236 - val_accuracy: 0.9833\n",
            "Epoch 8/15\n",
            "7/7 [==============================] - 9s 1s/step - loss: 0.1581 - accuracy: 0.9611 - val_loss: 0.0631 - val_accuracy: 0.9833\n",
            "Epoch 9/15\n",
            "7/7 [==============================] - 9s 1s/step - loss: 0.0770 - accuracy: 0.9745 - val_loss: 0.1247 - val_accuracy: 0.9667\n",
            "Epoch 10/15\n",
            "7/7 [==============================] - 9s 1s/step - loss: 0.1210 - accuracy: 0.9543 - val_loss: 0.1610 - val_accuracy: 0.9667\n",
            "Epoch 11/15\n",
            "7/7 [==============================] - 9s 1s/step - loss: 0.0667 - accuracy: 0.9871 - val_loss: 0.1667 - val_accuracy: 0.9500\n",
            "Epoch 12/15\n",
            "7/7 [==============================] - 9s 1s/step - loss: 0.1033 - accuracy: 0.9681 - val_loss: 0.0717 - val_accuracy: 0.9667\n",
            "Epoch 13/15\n",
            "7/7 [==============================] - 9s 1s/step - loss: 0.1039 - accuracy: 0.9634 - val_loss: 0.2374 - val_accuracy: 0.9667\n",
            "Epoch 14/15\n",
            "7/7 [==============================] - 9s 1s/step - loss: 0.1717 - accuracy: 0.9540 - val_loss: 0.1321 - val_accuracy: 0.9667\n",
            "Epoch 15/15\n",
            "7/7 [==============================] - 9s 1s/step - loss: 0.0738 - accuracy: 0.9760 - val_loss: 0.1334 - val_accuracy: 1.0000\n"
          ],
          "name": "stdout"
        }
      ]
    },
    {
      "cell_type": "code",
      "metadata": {
        "id": "OsOFFxRvU20l"
      },
      "source": [
        "from sklearn.metrics import confusion_matrix\n",
        "import seaborn as sns\n",
        "import os"
      ],
      "execution_count": null,
      "outputs": []
    },
    {
      "cell_type": "code",
      "metadata": {
        "colab": {
          "base_uri": "https://localhost:8080/"
        },
        "id": "iXF0X6VQHw-D",
        "outputId": "6ce41209-4847-413b-8d06-1fbe8d87028e"
      },
      "source": [
        "model.save(\"model_wgt1\")"
      ],
      "execution_count": null,
      "outputs": [
        {
          "output_type": "stream",
          "text": [
            "INFO:tensorflow:Assets written to: model_wgt1/assets\n"
          ],
          "name": "stdout"
        }
      ]
    },
    {
      "cell_type": "code",
      "metadata": {
        "colab": {
          "base_uri": "https://localhost:8080/"
        },
        "id": "FmpfaGQ8H7QL",
        "outputId": "7356fb3b-eaa0-40e5-b347-328fb1d05e58"
      },
      "source": [
        "model.evaluate_generator(train_generator)"
      ],
      "execution_count": null,
      "outputs": [
        {
          "output_type": "stream",
          "text": [
            "/usr/local/lib/python3.7/dist-packages/keras/engine/training.py:1948: UserWarning: `Model.evaluate_generator` is deprecated and will be removed in a future version. Please use `Model.evaluate`, which supports generators.\n",
            "  warnings.warn('`Model.evaluate_generator` is deprecated and '\n"
          ],
          "name": "stderr"
        },
        {
          "output_type": "execute_result",
          "data": {
            "text/plain": [
              "[0.16438743472099304, 0.96875]"
            ]
          },
          "metadata": {
            "tags": []
          },
          "execution_count": 56
        }
      ]
    },
    {
      "cell_type": "code",
      "metadata": {
        "colab": {
          "base_uri": "https://localhost:8080/"
        },
        "id": "qNjgKY2iIbYC",
        "outputId": "49cde26e-616e-4c25-9ab3-1ee2e0fd5ea5"
      },
      "source": [
        "model.evaluate_generator(validation_generator)"
      ],
      "execution_count": null,
      "outputs": [
        {
          "output_type": "stream",
          "text": [
            "/usr/local/lib/python3.7/dist-packages/keras/engine/training.py:1948: UserWarning: `Model.evaluate_generator` is deprecated and will be removed in a future version. Please use `Model.evaluate`, which supports generators.\n",
            "  warnings.warn('`Model.evaluate_generator` is deprecated and '\n"
          ],
          "name": "stderr"
        },
        {
          "output_type": "execute_result",
          "data": {
            "text/plain": [
              "[0.1334088295698166, 1.0]"
            ]
          },
          "metadata": {
            "tags": []
          },
          "execution_count": 57
        }
      ]
    },
    {
      "cell_type": "code",
      "metadata": {
        "colab": {
          "base_uri": "https://localhost:8080/"
        },
        "id": "kDgI9tP-GEG_",
        "outputId": "19a2a9f3-1ac1-4951-d90f-d99033555f61"
      },
      "source": [
        "y_actual =[]  \n",
        "y_test = []\n",
        "\n",
        "for i in os.listdir(\"./CovidDataset/Val/Normal/\"):\n",
        "  img = image.load_img(\"./CovidDataset/Val/Normal/\"+i,target_size=(224,224))\n",
        "  img = image.img_to_array(img)\n",
        "  img = np.expand_dims(img,axis=0)\n",
        "  p = model.predict_classes(img)\n",
        "  y_test.append(p[0,0])\n",
        "  y_actual.append(1)"
      ],
      "execution_count": null,
      "outputs": [
        {
          "output_type": "stream",
          "text": [
            "/usr/local/lib/python3.7/dist-packages/keras/engine/sequential.py:450: UserWarning: `model.predict_classes()` is deprecated and will be removed after 2021-01-01. Please use instead:* `np.argmax(model.predict(x), axis=-1)`,   if your model does multi-class classification   (e.g. if it uses a `softmax` last-layer activation).* `(model.predict(x) > 0.5).astype(\"int32\")`,   if your model does binary classification   (e.g. if it uses a `sigmoid` last-layer activation).\n",
            "  warnings.warn('`model.predict_classes()` is deprecated and '\n"
          ],
          "name": "stderr"
        }
      ]
    },
    {
      "cell_type": "code",
      "metadata": {
        "colab": {
          "base_uri": "https://localhost:8080/"
        },
        "id": "Iaon-jxrHO8W",
        "outputId": "a136d83c-06a6-4b90-ee09-0a5f36694de5"
      },
      "source": [
        "for i in os.listdir(\"./CovidDataset/Val/Covid/\"):\n",
        "  img = image.load_img(\"./CovidDataset/Val/Covid/\"+i,target_size=(224,224))\n",
        "  img = image.img_to_array(img)\n",
        "  img = np.expand_dims(img, axis=0)\n",
        "  p = model.predict_classes(img)\n",
        "  y_test.append(p[0,0])\n",
        "  y_actual.append(0)"
      ],
      "execution_count": null,
      "outputs": [
        {
          "output_type": "stream",
          "text": [
            "/usr/local/lib/python3.7/dist-packages/keras/engine/sequential.py:450: UserWarning: `model.predict_classes()` is deprecated and will be removed after 2021-01-01. Please use instead:* `np.argmax(model.predict(x), axis=-1)`,   if your model does multi-class classification   (e.g. if it uses a `softmax` last-layer activation).* `(model.predict(x) > 0.5).astype(\"int32\")`,   if your model does binary classification   (e.g. if it uses a `sigmoid` last-layer activation).\n",
            "  warnings.warn('`model.predict_classes()` is deprecated and '\n"
          ],
          "name": "stderr"
        }
      ]
    },
    {
      "cell_type": "code",
      "metadata": {
        "id": "GBx65G53JXGB"
      },
      "source": [
        "y_actual = np.array(y_actual)\n",
        "y_test = np.array(y_test)"
      ],
      "execution_count": null,
      "outputs": []
    },
    {
      "cell_type": "code",
      "metadata": {
        "id": "BZ4eOs9bJleu"
      },
      "source": [
        "cm = confusion_matrix(y_actual,y_test)"
      ],
      "execution_count": null,
      "outputs": []
    },
    {
      "cell_type": "code",
      "metadata": {
        "colab": {
          "base_uri": "https://localhost:8080/",
          "height": 286
        },
        "id": "e6yOHkjZJvR_",
        "outputId": "dd642ece-bb3a-445f-a9dc-3a34985efac9"
      },
      "source": [
        "sns.heatmap(cm,cmap=\"plasma\",annot=True)"
      ],
      "execution_count": null,
      "outputs": [
        {
          "output_type": "execute_result",
          "data": {
            "text/plain": [
              "<matplotlib.axes._subplots.AxesSubplot at 0x7fbb9fe09e50>"
            ]
          },
          "metadata": {
            "tags": []
          },
          "execution_count": 62
        },
        {
          "output_type": "display_data",
          "data": {
            "image/png": "[encoded data removed]",
            "text/plain": [
              "<Figure size 432x288 with 2 Axes>"
            ]
          },
          "metadata": {
            "tags": []
          }
        }
      ]
    },
    {
      "cell_type": "code",
      "metadata": {
        "colab": {
          "base_uri": "https://localhost:8080/",
          "height": 590
        },
        "id": "vQIi4gC-Kd8J",
        "outputId": "f4aa96bc-c912-4d67-b361-054ebae3666b"
      },
      "source": [
        "import matplotlib.pyplot as plt\n",
        "\n",
        "print(hist.history.keys())\n",
        "# summarize history for accuracy\n",
        "plt.plot(hist.history['accuracy'])\n",
        "plt.plot(hist.history['val_accuracy'])\n",
        "plt.title('model accuracy')\n",
        "plt.ylabel('accuracy')\n",
        "plt.xlabel('epoch')\n",
        "plt.legend(['train', 'test'], loc='upper left')\n",
        "plt.show()\n",
        "# summarize history for loss\n",
        "plt.plot(hist.history['loss'])\n",
        "plt.plot(hist.history['val_loss'])\n",
        "plt.title('model loss')\n",
        "plt.ylabel('loss')\n",
        "plt.xlabel('epoch')\n",
        "plt.legend(['train', 'test'], loc='upper left')\n",
        "plt.show()\n"
      ],
      "execution_count": null,
      "outputs": [
        {
          "output_type": "stream",
          "text": [
            "dict_keys(['loss', 'accuracy', 'val_loss', 'val_accuracy'])\n"
          ],
          "name": "stdout"
        },
        {
          "output_type": "display_data",
          "data": {
            "image/png": "[encoded data removed]",
            "text/plain": [
              "<Figure size 432x288 with 1 Axes>"
            ]
          },
          "metadata": {
            "tags": []
          }
        },
        {
          "output_type": "display_data",
          "data": {
            "image/png": "[encoded data removed]",
            "text/plain": [
              "<Figure size 432x288 with 1 Axes>"
            ]
          },
          "metadata": {
            "tags": []
          }
        }
      ]
    },
    {
      "cell_type": "code",
      "metadata": {
        "id": "WmLiV10CMKfj"
      },
      "source": [
        ""
      ],
      "execution_count": null,
      "outputs": []
    }
  ]
}